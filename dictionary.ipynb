{
 "cells": [
  {
   "cell_type": "markdown",
   "metadata": {},
   "source": [
    "Use a dictionary when you need to count things"
   ]
  },
  {
   "cell_type": "code",
   "execution_count": 1,
   "metadata": {},
   "outputs": [],
   "source": [
    "from collections import Counter\n",
    "from random import sample"
   ]
  },
  {
   "cell_type": "code",
   "execution_count": 2,
   "metadata": {},
   "outputs": [
    {
     "data": {
      "text/plain": [
       "['steak',\n",
       " 'hamburger',\n",
       " 'chicken nuggets',\n",
       " 'chicken nuggets',\n",
       " 'steak',\n",
       " 'hamburger',\n",
       " 'chicken nuggets',\n",
       " 'hamburger',\n",
       " 'chicken nuggets']"
      ]
     },
     "execution_count": 2,
     "metadata": {},
     "output_type": "execute_result"
    }
   ],
   "source": [
    "orders = (['hamburger']*3) + (['chicken nuggets']*4) + (['steak']*2)\n",
    "orders = sample(orders, 9)\n",
    "orders"
   ]
  },
  {
   "cell_type": "markdown",
   "metadata": {},
   "source": [
    "How many steaks were ordered?"
   ]
  },
  {
   "cell_type": "code",
   "execution_count": 3,
   "metadata": {},
   "outputs": [
    {
     "data": {
      "text/plain": [
       "Counter({'steak': 2, 'hamburger': 3, 'chicken nuggets': 4})"
      ]
     },
     "execution_count": 3,
     "metadata": {},
     "output_type": "execute_result"
    }
   ],
   "source": [
    "dct = Counter(orders)\n",
    "dct"
   ]
  },
  {
   "cell_type": "code",
   "execution_count": 20,
   "metadata": {},
   "outputs": [
    {
     "data": {
      "text/plain": [
       "2"
      ]
     },
     "execution_count": 20,
     "metadata": {},
     "output_type": "execute_result"
    }
   ],
   "source": [
    "dct['steak']"
   ]
  },
  {
   "cell_type": "markdown",
   "metadata": {},
   "source": [
    "Which food ordered the most?"
   ]
  },
  {
   "cell_type": "code",
   "execution_count": 4,
   "metadata": {},
   "outputs": [
    {
     "data": {
      "text/plain": [
       "[('chicken nuggets', 4), ('hamburger', 3), ('steak', 2)]"
      ]
     },
     "execution_count": 4,
     "metadata": {},
     "output_type": "execute_result"
    }
   ],
   "source": [
    "dct.most_common()"
   ]
  },
  {
   "cell_type": "markdown",
   "metadata": {},
   "source": [
    "Write out: There were 4 orders of chicken nuggets<br>\n",
    "But do this for every food<br>\n",
    "Counter({<br>\n",
    "key1: value1,<br>\n",
    "'chicken nuggets':4,<br>\n",
    "key3:value3<br>\n",
    "})"
   ]
  },
  {
   "cell_type": "code",
   "execution_count": 5,
   "metadata": {},
   "outputs": [
    {
     "data": {
      "text/plain": [
       "Counter({'steak': 2, 'hamburger': 3, 'chicken nuggets': 4})"
      ]
     },
     "execution_count": 5,
     "metadata": {},
     "output_type": "execute_result"
    }
   ],
   "source": [
    "dct"
   ]
  },
  {
   "cell_type": "code",
   "execution_count": 6,
   "metadata": {},
   "outputs": [
    {
     "name": "stdout",
     "output_type": "stream",
     "text": [
      "There were 2 orders of steak\n",
      "There were 3 orders of hamburger\n",
      "There were 4 orders of chicken nuggets\n"
     ]
    }
   ],
   "source": [
    "for key, value in dct.items():\n",
    "    print(f\"There were {value} orders of {key}\")"
   ]
  },
  {
   "cell_type": "code",
   "execution_count": 7,
   "metadata": {},
   "outputs": [
    {
     "name": "stdout",
     "output_type": "stream",
     "text": [
      "There were 9 total orders\n"
     ]
    }
   ],
   "source": [
    "total = 0\n",
    "for key, value in dct.items():\n",
    "    total = total + value\n",
    "print(f\"There were {total} total orders\")"
   ]
  },
  {
   "cell_type": "markdown",
   "metadata": {},
   "source": [
    "Exercise: Ask a student to share their screen<br>\n",
    "Find most common major<br>\n",
    "Find the number of biology majors<br>\n",
    "Print out 48% of total students are math majors etc. for all the majors <br>"
   ]
  },
  {
   "cell_type": "code",
   "execution_count": 33,
   "metadata": {},
   "outputs": [
    {
     "data": {
      "text/plain": [
       "['chemistry',\n",
       " 'math',\n",
       " 'math',\n",
       " 'chemistry',\n",
       " 'math',\n",
       " 'sociology',\n",
       " 'math',\n",
       " 'english',\n",
       " 'english',\n",
       " 'chemistry',\n",
       " 'math',\n",
       " 'sociology',\n",
       " 'math',\n",
       " 'math',\n",
       " 'math',\n",
       " 'english',\n",
       " 'english',\n",
       " 'math',\n",
       " 'chemistry',\n",
       " 'math',\n",
       " 'english',\n",
       " 'math',\n",
       " 'math',\n",
       " 'sociology',\n",
       " 'sociology',\n",
       " 'sociology',\n",
       " 'english',\n",
       " 'english',\n",
       " 'math',\n",
       " 'math',\n",
       " 'english',\n",
       " 'english',\n",
       " 'english',\n",
       " 'sociology',\n",
       " 'math',\n",
       " 'english',\n",
       " 'chemistry',\n",
       " 'english',\n",
       " 'math',\n",
       " 'math',\n",
       " 'sociology',\n",
       " 'chemistry',\n",
       " 'math',\n",
       " 'chemistry',\n",
       " 'chemistry',\n",
       " 'chemistry',\n",
       " 'sociology',\n",
       " 'math',\n",
       " 'chemistry',\n",
       " 'sociology',\n",
       " 'math']"
      ]
     },
     "execution_count": 33,
     "metadata": {},
     "output_type": "execute_result"
    }
   ],
   "source": [
    "majors = ['chemistry',\n",
    " 'math',\n",
    " 'math',\n",
    " 'chemistry',\n",
    " 'math',\n",
    " 'sociology',\n",
    " 'math',\n",
    " 'english',\n",
    " 'english',\n",
    " 'chemistry',\n",
    " 'math',\n",
    " 'sociology',\n",
    " 'math',\n",
    " 'math',\n",
    " 'math',\n",
    " 'english',\n",
    " 'english',\n",
    " 'math',\n",
    " 'chemistry',\n",
    " 'math',\n",
    " 'english',\n",
    " 'math',\n",
    " 'math',\n",
    " 'sociology',\n",
    " 'sociology',\n",
    " 'sociology',\n",
    " 'english',\n",
    " 'english',\n",
    " 'math',\n",
    " 'math',\n",
    " 'english',\n",
    " 'english',\n",
    " 'english',\n",
    " 'sociology',\n",
    " 'math',\n",
    " 'english',\n",
    " 'chemistry',\n",
    " 'english',\n",
    " 'math',\n",
    " 'math',\n",
    " 'sociology',\n",
    " 'chemistry',\n",
    " 'math',\n",
    " 'chemistry',\n",
    " 'chemistry',\n",
    " 'chemistry',\n",
    " 'sociology',\n",
    " 'math',\n",
    " 'chemistry',\n",
    " 'sociology',\n",
    " 'math']\n",
    "majors"
   ]
  },
  {
   "cell_type": "markdown",
   "metadata": {},
   "source": [
    "https://towardsdatascience.com/master-python-dictionary-for-beginners-in-2021-1cdbaa17ec45\n",
    "\n",
    "https://towardsdatascience.com/15-things-you-should-know-about-dictionaries-in-python-44c55e75405c"
   ]
  },
  {
   "cell_type": "code",
   "execution_count": 10,
   "metadata": {},
   "outputs": [
    {
     "data": {
      "text/plain": [
       "{'Berlin': 3748148,\n",
       " 'Hamburg': 1822445,\n",
       " 'Munich': 1471508,\n",
       " 'Cologne': 1085664,\n",
       " 'Frankfurt': 753056}"
      ]
     },
     "execution_count": 10,
     "metadata": {},
     "output_type": "execute_result"
    }
   ],
   "source": [
    "# dictionary containing the population of the 5 largest german cities\n",
    "population = {'Berlin': 3748148, 'Hamburg': 1822445, 'Munich': 1471508, 'Cologne': 1085664, 'Frankfurt': 753056 }\n",
    "\n",
    "# dictionary containing a list of products' prices\n",
    "products = {'table': 120, 'chair': 40, 'lamp': 14, 'bed': 250, 'mattress': 100}\n",
    "\n",
    "# dictionary containing students grades \n",
    "grades = {'Alba': 9.5, 'Eduardo': 10, 'Normando': 3.5, 'Helena': 6.5, 'Claudia': 7.5}\n",
    "\n",
    "population"
   ]
  },
  {
   "cell_type": "markdown",
   "metadata": {},
   "source": [
    "What grade did Eduardo get?"
   ]
  },
  {
   "cell_type": "code",
   "execution_count": 37,
   "metadata": {},
   "outputs": [
    {
     "data": {
      "text/plain": [
       "10"
      ]
     },
     "execution_count": 37,
     "metadata": {},
     "output_type": "execute_result"
    }
   ],
   "source": [
    "grades['Eduardo']"
   ]
  },
  {
   "cell_type": "markdown",
   "metadata": {},
   "source": [
    "Ask a student:<br>\n",
    "Get the population of Frankfurt"
   ]
  },
  {
   "cell_type": "code",
   "execution_count": null,
   "metadata": {},
   "outputs": [],
   "source": []
  },
  {
   "cell_type": "markdown",
   "metadata": {},
   "source": [
    "Adding Walter grade into grades"
   ]
  },
  {
   "cell_type": "code",
   "execution_count": 38,
   "metadata": {},
   "outputs": [
    {
     "data": {
      "text/plain": [
       "{'Alba': 9.5,\n",
       " 'Eduardo': 10,\n",
       " 'Normando': 3.5,\n",
       " 'Helena': 6.5,\n",
       " 'Claudia': 7.5,\n",
       " 'Walter': 100}"
      ]
     },
     "execution_count": 38,
     "metadata": {},
     "output_type": "execute_result"
    }
   ],
   "source": [
    "grades['Walter'] = 100\n",
    "grades"
   ]
  },
  {
   "cell_type": "markdown",
   "metadata": {},
   "source": [
    "Ask a student <br>\n",
    "Population of Nepal is 29000000, add that into the dictionary"
   ]
  },
  {
   "cell_type": "code",
   "execution_count": null,
   "metadata": {},
   "outputs": [],
   "source": []
  },
  {
   "cell_type": "markdown",
   "metadata": {},
   "source": [
    "This is how to check if pillow is in the products dictionary"
   ]
  },
  {
   "cell_type": "code",
   "execution_count": 39,
   "metadata": {},
   "outputs": [
    {
     "data": {
      "text/plain": [
       "False"
      ]
     },
     "execution_count": 39,
     "metadata": {},
     "output_type": "execute_result"
    }
   ],
   "source": [
    "'pillow' in products"
   ]
  },
  {
   "cell_type": "code",
   "execution_count": 40,
   "metadata": {},
   "outputs": [
    {
     "data": {
      "text/plain": [
       "True"
      ]
     },
     "execution_count": 40,
     "metadata": {},
     "output_type": "execute_result"
    }
   ],
   "source": [
    "'mattress' in products"
   ]
  },
  {
   "cell_type": "markdown",
   "metadata": {},
   "source": [
    "Ask a student<br>\n",
    "Check if Stuttgart is in the population dictionary"
   ]
  },
  {
   "cell_type": "code",
   "execution_count": null,
   "metadata": {},
   "outputs": [],
   "source": []
  },
  {
   "cell_type": "markdown",
   "metadata": {},
   "source": [
    "Find the products with price less than 100"
   ]
  },
  {
   "cell_type": "code",
   "execution_count": 41,
   "metadata": {},
   "outputs": [
    {
     "data": {
      "text/plain": [
       "{'chair': 40, 'lamp': 14}"
      ]
     },
     "execution_count": 41,
     "metadata": {},
     "output_type": "execute_result"
    }
   ],
   "source": [
    "# empty dictionary\n",
    "products_low = {}\n",
    "\n",
    "# select only the items with a price lower than 100 \n",
    "for product, value in products.items():\n",
    "    if value < 100:\n",
    "        products_low[product] = value\n",
    "products_low"
   ]
  },
  {
   "cell_type": "code",
   "execution_count": 13,
   "metadata": {},
   "outputs": [
    {
     "data": {
      "text/plain": [
       "{'table': 120, 'chair': 40, 'lamp': 14, 'bed': 250, 'mattress': 100}"
      ]
     },
     "execution_count": 13,
     "metadata": {},
     "output_type": "execute_result"
    }
   ],
   "source": [
    "products"
   ]
  },
  {
   "cell_type": "code",
   "execution_count": 12,
   "metadata": {},
   "outputs": [
    {
     "name": "stdout",
     "output_type": "stream",
     "text": [
      "Key is table and value is 120\n",
      "Key is chair and value is 40\n",
      "Key is lamp and value is 14\n",
      "Key is bed and value is 250\n",
      "Key is mattress and value is 100\n"
     ]
    }
   ],
   "source": [
    "for key, value in products.items():\n",
    "    print(f\"Key is {key} and value is {value}\")"
   ]
  },
  {
   "cell_type": "code",
   "execution_count": 15,
   "metadata": {},
   "outputs": [
    {
     "name": "stdout",
     "output_type": "stream",
     "text": [
      "Walter is cool\n"
     ]
    }
   ],
   "source": [
    "name = \"Walter\"\n",
    "print(f\"{name} is cool\")"
   ]
  },
  {
   "cell_type": "markdown",
   "metadata": {},
   "source": [
    "Ask a student to share screen:<br>\n",
    "Find city with population < 1000000"
   ]
  },
  {
   "cell_type": "code",
   "execution_count": 18,
   "metadata": {},
   "outputs": [],
   "source": [
    "import time"
   ]
  },
  {
   "cell_type": "code",
   "execution_count": 20,
   "metadata": {},
   "outputs": [
    {
     "name": "stdout",
     "output_type": "stream",
     "text": [
      "Key is Berlin\n",
      "Value is 3748148\n",
      "Key is Hamburg\n",
      "Value is 1822445\n",
      "Key is Munich\n",
      "Value is 1471508\n",
      "Key is Cologne\n",
      "Value is 1085664\n",
      "Key is Frankfurt\n",
      "Value is 753056\n"
     ]
    }
   ],
   "source": [
    "lonely_cities = {}\n",
    "\n",
    "for key, value in population.items():\n",
    "    #if value < 1000000:\n",
    "    #    lonely_cities[key] = value\n",
    "    print(f\"Key is {key}\")\n",
    "    print(f\"Value is {value}\")\n",
    "    time.sleep(5)\n",
    "#lonely_cities"
   ]
  },
  {
   "cell_type": "code",
   "execution_count": 17,
   "metadata": {},
   "outputs": [
    {
     "data": {
      "text/plain": [
       "{'Berlin': 3748148,\n",
       " 'Hamburg': 1822445,\n",
       " 'Munich': 1471508,\n",
       " 'Cologne': 1085664,\n",
       " 'Frankfurt': 753056}"
      ]
     },
     "execution_count": 17,
     "metadata": {},
     "output_type": "execute_result"
    }
   ],
   "source": [
    "population"
   ]
  },
  {
   "cell_type": "code",
   "execution_count": 21,
   "metadata": {},
   "outputs": [],
   "source": [
    "someList = ['Walt','Kris','Zion','Leknath','Sushma']"
   ]
  },
  {
   "cell_type": "code",
   "execution_count": 22,
   "metadata": {},
   "outputs": [
    {
     "name": "stdout",
     "output_type": "stream",
     "text": [
      "name is set to Walt\n",
      "name is set to Kris\n",
      "name is set to Zion\n",
      "name is set to Leknath\n",
      "name is set to Sushma\n"
     ]
    }
   ],
   "source": [
    "for name in someList:\n",
    "    print(\"name is set to \"+name)\n",
    "    time.sleep(10)"
   ]
  },
  {
   "cell_type": "markdown",
   "metadata": {},
   "source": [
    "Ask a student to share screen:<br>\n",
    "Find student with grade less than 7"
   ]
  },
  {
   "cell_type": "code",
   "execution_count": 43,
   "metadata": {},
   "outputs": [],
   "source": [
    "students_less_7 = {}\n"
   ]
  },
  {
   "cell_type": "code",
   "execution_count": 18,
   "metadata": {},
   "outputs": [
    {
     "data": {
      "text/plain": [
       "'[{\"reviewerID\": \"A2IBPI20UZIR0U\", \"asin\": \"1384719342\", \"reviewerName\": \"cassandra tu \\\\\"Yeah, well, that\\'s just like, u...\", \"helpful\": [0, 0], \"reviewText\": \"Not much to write about here, but it does exactly what it\\'s supposed to. filters out the pop sounds. now my recordings are much more crisp. it is one of the lowest prices pop filters on amazon so might as well buy it, they honestly work the same despite their pricing,\", \"overall\": 5.0, \"summary\": \"good\", \"unixReviewTime\": 1393545600, \"reviewTime\": \"02 28, 2014\"},{\"reviewerID\": \"A14VAT5EAX3D9S\", \"asin\": \"1384719342\", \"reviewerName\": \"Jake\", \"helpful\": [13, 14], \"reviewText\": \"The product does exactly as it should and is quite affordable.I did not realized it was double screened until it arrived, so it was even better than I had expected.As an added bonus, one of the screens carries a small hint of the smell of an old grape candy I used to buy, so for reminiscent\\'s sake, I cannot stop putting the pop filter next to my nose and smelling it after recording. :DIf you needed a pop filter, this will work just as well as the expensive ones, and it may even come with a pleasing aroma like mine did!Buy this product! :]\", \"overall\": 5.0, \"summary\": \"Jake\", \"unixReviewTime\": 1363392000, \"reviewTime\": \"03 16, 2013\"},{\"reviewerID\": \"A195EZSQDW3E21\", \"asin\": \"1384719342\", \"reviewerName\": \"Rick Bennette \\\\\"Rick Bennette\\\\\"\", \"helpful\": [1, 1], \"reviewText\": \"The primary job of this device is to block the breath that would otherwise produce a popping sound, while allowing your voice to pass through with no noticeable reduction of volume or high frequencies. The double cloth filter blocks the pops and lets the voice through with no coloration. The metal clamp mount attaches to the mike stand secure enough to keep it attached. The goose neck needs a little coaxing to stay where you put it.\", \"overall\": 5.0, \"summary\": \"It Does The Job Well\", \"unixReviewTime\": 1377648000, \"reviewTime\": \"08 28, 2013\"},{\"reviewerID\": \"A2C00NNG1ZQQG2\", \"asin\": \"1384719342\", \"reviewerName\": \"RustyBill \\\\\"Sunday Rocker\\\\\"\", \"helpful\": [0, 0], \"reviewText\": \"Nice windscreen protects my MXL mic and prevents pops. Only thing is that the gooseneck is only marginally able to hold the screen in position and requires careful positioning of the clamp to avoid sagging.\", \"overall\": 5.0, \"summary\": \"GOOD WINDSCREEN FOR THE MONEY\", \"unixReviewTime\": 1392336000, \"reviewTime\": \"02 14, 2014\"},{\"reviewerID\": \"A94QU4C90B1AX\", \"asin\": \"1384719342\", \"reviewerName\": \"SEAN MASLANKA\", \"helpful\": [0, 0], \"reviewText\": \"This pop filter is great. It looks and performs like a studio filter. If you\\'re recording vocals this will eliminate the pops that gets recorded when you sing.\", \"overall\": 5.0, \"summary\": \"No more pops when I record my vocals.\", \"unixReviewTime\": 1392940800, \"reviewTime\": \"02 21, 2014\"},{\"reviewerID\": \"A2A039TZMZHH9Y\", \"asin\": \"B00004Y2UT\", \"reviewerName\": \"Bill Lewey \\\\\"blewey\\\\\"\", \"helpful\": [0, 0], \"reviewText\": \"So good that I bought another one.  Love the heavy cord and gold connectors.  Bass sounds great.  I just learned last night how to coil them up.  I guess I should read instructions more carefully.  But no harm done, still works great!\", \"overall\": 5.0, \"summary\": \"The Best Cable\", \"unixReviewTime\": 1356048000, \"reviewTime\": \"12 21, 2012\"},{\"reviewerID\": \"A1UPZM995ZAH90\", \"asin\": \"B00004Y2UT\", \"reviewerName\": \"Brian\", \"helpful\": [0, 0], \"reviewText\": \"I have used monster cables for years, and with good reason. The lifetime warranty is worth the price alone. Simple fact: cables break, but getting to replace them at no cost is where it\\'s at.\", \"overall\": 5.0, \"summary\": \"Monster Standard 100 - 21\\' Instrument Cable\", \"unixReviewTime\": 1390089600, \"reviewTime\": \"01 19, 2014\"},{\"reviewerID\": \"AJNFQI3YR6XJ5\", \"asin\": \"B00004Y2UT\", \"reviewerName\": \"Fender Guy \\\\\"Rick\\\\\"\", \"helpful\": [0, 0], \"reviewText\": \"I now use this cable to run from the output of my pedal chain to the input of my Fender Amp. After I bought Monster Cable to hook up my pedal board I thought I would try another one and update my guitar. I had been using a high end Planet Waves cable that I bought in the 1980\\'s... Once I found out the input jacks on the new Monster cable didn\\'t fit into the Fender Strat jack I was a little disappointed... I didn\\'t return it and as stated I use it for the output on the pedal board. Save your money... I went back to my Planet Waves Cable...I payed $30.00 back in the eighties for the Planet Waves which now comes in at around $50.00. What I\\'m getting at is you get what you pay for. I thought Waves was a lot of money back in the day...but I haven\\'t bought a guitar cable since this one...20 plus years and still working...Planet Waves wins.\", \"overall\": 3.0, \"summary\": \"Didn\\'t fit my 1996 Fender Strat...\", \"unixReviewTime\": 1353024000, \"reviewTime\": \"11 16, 2012\"},{\"reviewerID\": \"A3M1PLEYNDEYO8\", \"asin\": \"B00004Y2UT\", \"reviewerName\": \"G. Thomas \\\\\"Tom\\\\\"\", \"helpful\": [0, 0], \"reviewText\": \"Perfect for my Epiphone Sheraton II.  Monster cables are well constructed.  I have several and never had any problems with any of them over the years.  Got this one because I wanted the 90 degree plug.\", \"overall\": 5.0, \"summary\": \"Great cable\", \"unixReviewTime\": 1215302400, \"reviewTime\": \"07 6, 2008\"},{\"reviewerID\": \"AMNTZU1YQN1TH\", \"asin\": \"B00004Y2UT\", \"reviewerName\": \"Kurt Robair\", \"helpful\": [0, 0], \"reviewText\": \"Monster makes the best cables and a lifetime warranty doesnt hurt either. This isnt their top of the line series but it works great with my bass guitar rig and has for some time. You cant go wrong with Monster Cables.\", \"overall\": 5.0, \"summary\": \"Best Instrument Cables On The Market\", \"unixReviewTime\": 1389139200, \"reviewTime\": \"01 8, 2014\"},{\"reviewerID\": \"A2NYK9KWFMJV4Y\", \"asin\": \"B00004Y2UT\", \"reviewerName\": \"Mike Tarrani \\\\\"Jazz Drummer\\\\\"\", \"helpful\": [6, 6], \"reviewText\": \"Monster makes a wide array of cables, including some that are very high end. I initially purchased a pair ofMonster Rock Instrument Cable - 21 Feet - Angled to Straight 1/4-Inch plugto use with my keyboards, but when it came time to purchase cables for my bass and guitar I thought I\\'d pinch a few pennies.  I am so glad I did.I compared this cable model to the more expensive models I previously purchased and, aside from looks, could not detect any difference in sound. I Swapped back and forth between my guitars and keyboards, ensuring that each model was used on each instrument - still no difference.What the more expensive model has going for it is looks. I am not sure it (the higher priced model) is even more sturdy because the molded stress relief ends on this model seem to make it more reliable than its pricier sibling.Bottom line: carefully compare both cables using your own instrument and amp - if possible - before making a purchase decision. You may find, as I did, that higher price does not necessarily equal higher value, even from the same manufacturer.\", \"overall\": 5.0, \"summary\": \"One of the best instrument cables within the brand\", \"unixReviewTime\": 1334793600, \"reviewTime\": \"04 19, 2012\"},{\"reviewerID\": \"A35QFQI0M46LWO\", \"asin\": \"B00005ML71\", \"reviewerName\": \"Christopher C\", \"helpful\": [0, 0], \"reviewText\": \"I got it to have it if I needed it. I have found that i don\\'t really need it that often and rarely use it. If I was really good I can see the need. But this is a keyboard not an organ.\", \"overall\": 4.0, \"summary\": \"It works great but I hardly use it.\", \"unixReviewTime\": 1398124800, \"reviewTime\": \"04 22, 2014\"},{\"reviewerID\": \"A2NIT6BKW11XJQ\", \"asin\": \"B00005ML71\", \"reviewerName\": \"Jai\", \"helpful\": [0, 0], \"reviewText\": \"If you are not use to using a large sustaining pedal while playing the piano, it may appear little awkward.\", \"overall\": 3.0, \"summary\": \"HAS TO GET USE TO THE SIZE\", \"unixReviewTime\": 1384646400, \"reviewTime\": \"11 17, 2013\"},{\"reviewerID\": \"A1C0O09LOLVI39\", \"asin\": \"B00005ML71\", \"reviewerName\": \"Michael\", \"helpful\": [0, 0], \"reviewText\": \"I love it, I used this for my Yamaha ypt-230 and it works great, I would recommend it to anyone\", \"overall\": 5.0, \"summary\": \"awesome\", \"unixReviewTime\": 1371340800, \"reviewTime\": \"06 16, 2013\"},{\"reviewerID\": \"A17SLR18TUMULM\", \"asin\": \"B00005ML71\", \"reviewerName\": \"Straydogger\", \"helpful\": [0, 0], \"reviewText\": \"I bought this to use in my home studio to control my midi keyboard. It does just what I wanted it to do.\", \"overall\": 5.0, \"summary\": \"It works!\", \"unixReviewTime\": 1356912000, \"reviewTime\": \"12 31, 2012\"},{\"reviewerID\": \"A2PD27UKAD3Q00\", \"asin\": \"B00005ML71\", \"reviewerName\": \"Wilhelmina Zeitgeist \\\\\"coolartsybabe\\\\\"\", \"helpful\": [0, 0], \"reviewText\": \"I bought this to use with my keyboard. I wasn\\'t really aware that there were other options for keyboard pedals. It doesn\\'t work as smoothly as the pedals do on an acoustic piano, which is what I\\'d always used. Doesn\\'t have the same feel either. Nowhere close.In my opinion, a sustain pedal like the M-Audio SP-2 Sustain Pedal with Piano Style Action or other similar pedal is a much better choice. The price difference is only a few dollars and the feel and action are so much better. The only thing I\\'ve found the Yamaha FC-5 Sustain Pedal is good for is taking up space in a drawer where I keep my electric guitar pedals.\", \"overall\": 2.0, \"summary\": \"Definitely Not For The Seasoned Piano Player\", \"unixReviewTime\": 1376697600, \"reviewTime\": \"08 17, 2013\"},{\"reviewerID\": \"AKSFZ4G1AXYFC\", \"asin\": \"B000068NSX\", \"reviewerName\": \"C.E. \\\\\"Frank\\\\\"\", \"helpful\": [0, 0], \"reviewText\": \"This Fender cable is the perfect length for me! Sometimes I find it a bit too long but I don\\'t mind. The build quality is great and I know that it will last. The only gripe I have with this cable is that the metal sleeve gets unscrewed way too easily, requiring me to tighten it often.Sound quality is not affected, and the color is cool, definitely try this cable out.\", \"overall\": 4.0, \"summary\": \"Durable Instrument Cable\", \"unixReviewTime\": 1376352000, '"
      ]
     },
     "execution_count": 18,
     "metadata": {},
     "output_type": "execute_result"
    }
   ],
   "source": [
    "import json\n",
    "file = open('Musical_Instruments_5.json')\n",
    "data_as_string = file.read()\n",
    "data_as_string = data_as_string.replace('\\n',',')\n",
    "data_as_string = \"[\"+data_as_string+\"]\"\n",
    "data_as_string = data_as_string.replace(',]',']')\n",
    "data_as_string[:10000]"
   ]
  },
  {
   "cell_type": "code",
   "execution_count": 24,
   "metadata": {},
   "outputs": [],
   "source": [
    "reviews = json.loads(data_as_string)"
   ]
  }
 ],
 "metadata": {
  "kernelspec": {
   "display_name": "ML7331",
   "language": "python",
   "name": "ml7331"
  },
  "language_info": {
   "codemirror_mode": {
    "name": "ipython",
    "version": 3
   },
   "file_extension": ".py",
   "mimetype": "text/x-python",
   "name": "python",
   "nbconvert_exporter": "python",
   "pygments_lexer": "ipython3",
   "version": "3.8.5"
  }
 },
 "nbformat": 4,
 "nbformat_minor": 4
}
